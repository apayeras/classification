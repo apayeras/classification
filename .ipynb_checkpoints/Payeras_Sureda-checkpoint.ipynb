{
 "cells": [
  {
   "cell_type": "markdown",
   "id": "3f10a104",
   "metadata": {},
   "source": [
    "# Practica 1\n",
    "---\n",
    "Author: Antoni Payeras, Andreu Sureda <br>\n",
    "Date: data\n",
    "---"
   ]
  },
  {
   "cell_type": "markdown",
   "id": "04653467",
   "metadata": {},
   "source": [
    "## Les dades"
   ]
  },
  {
   "cell_type": "code",
   "execution_count": 1,
   "id": "0e972c3f",
   "metadata": {},
   "outputs": [],
   "source": [
    "import pandas as pd\n",
    "\n",
    "df = pd.read_csv(\"data.csv\", delimiter=r\"\\s+\")\n",
    "df = df.drop(['0'], axis=1)"
   ]
  },
  {
   "cell_type": "code",
   "execution_count": 2,
   "id": "dddd08ad",
   "metadata": {},
   "outputs": [
    {
     "data": {
      "text/html": [
       "<div>\n",
       "<style scoped>\n",
       "    .dataframe tbody tr th:only-of-type {\n",
       "        vertical-align: middle;\n",
       "    }\n",
       "\n",
       "    .dataframe tbody tr th {\n",
       "        vertical-align: top;\n",
       "    }\n",
       "\n",
       "    .dataframe thead th {\n",
       "        text-align: right;\n",
       "    }\n",
       "</style>\n",
       "<table border=\"1\" class=\"dataframe\">\n",
       "  <thead>\n",
       "    <tr style=\"text-align: right;\">\n",
       "      <th></th>\n",
       "      <th>catala</th>\n",
       "      <th>angles</th>\n",
       "    </tr>\n",
       "  </thead>\n",
       "  <tbody>\n",
       "    <tr>\n",
       "      <th>0</th>\n",
       "      <td>com</td>\n",
       "      <td>as</td>\n",
       "    </tr>\n",
       "    <tr>\n",
       "      <th>1</th>\n",
       "      <td>seva</td>\n",
       "      <td>his</td>\n",
       "    </tr>\n",
       "    <tr>\n",
       "      <th>2</th>\n",
       "      <td>que</td>\n",
       "      <td>that</td>\n",
       "    </tr>\n",
       "    <tr>\n",
       "      <th>3</th>\n",
       "      <td>ell</td>\n",
       "      <td>he</td>\n",
       "    </tr>\n",
       "    <tr>\n",
       "      <th>4</th>\n",
       "      <td>era</td>\n",
       "      <td>was</td>\n",
       "    </tr>\n",
       "  </tbody>\n",
       "</table>\n",
       "</div>"
      ],
      "text/plain": [
       "  catala angles\n",
       "0    com     as\n",
       "1   seva    his\n",
       "2    que   that\n",
       "3    ell     he\n",
       "4    era    was"
      ]
     },
     "execution_count": 2,
     "metadata": {},
     "output_type": "execute_result"
    }
   ],
   "source": [
    "df.head()"
   ]
  },
  {
   "cell_type": "markdown",
   "id": "1274d50a",
   "metadata": {},
   "source": [
    "Primer afegirem la variable de lang a cada un dels idiomes, per poder diferenciar l'idioma de cada paraula"
   ]
  },
  {
   "cell_type": "code",
   "execution_count": 3,
   "id": "15471b6e",
   "metadata": {},
   "outputs": [],
   "source": [
    "df_cat = df[[\"catala\"]]\n",
    "df_cat['lang'] = 0\n",
    "df_cat = df_cat.rename(columns={'catala': 'paraula'})\n",
    "\n",
    "\n",
    "df_ang = df[[\"angles\"]]\n",
    "df_ang['lang'] = 1\n",
    "df_ang = df_ang.rename(columns={'angles': 'paraula'})"
   ]
  },
  {
   "cell_type": "markdown",
   "id": "bccb6f02",
   "metadata": {},
   "source": [
    "Unió dels diferents dataframes de cada llenguatge "
   ]
  },
  {
   "cell_type": "code",
   "execution_count": 4,
   "id": "f0b42749",
   "metadata": {},
   "outputs": [],
   "source": [
    "df_final = pd.concat([df_cat, df_ang], ignore_index=True, sort=False)"
   ]
  },
  {
   "cell_type": "markdown",
   "id": "fe1adeaa",
   "metadata": {},
   "source": [
    "### Neteja de les dades\n",
    "#### 1. Eliminació de caracters especials"
   ]
  },
  {
   "cell_type": "code",
   "execution_count": 5,
   "id": "e15a24e2",
   "metadata": {},
   "outputs": [],
   "source": [
    "df_final['paraula'] = df_final['paraula'].str.replace(\"[\\\\:.,;_*+^\\[\\]\\(\\)/&€%$~\\\"ªº?¿¡!0-9]\", \"\", regex=True)\n",
    "\n",
    "df_final = df_final[df_final['paraula'] != '']"
   ]
  },
  {
   "cell_type": "markdown",
   "id": "72d63ec4",
   "metadata": {},
   "source": [
    "#### 2. Eliminació de paraules repetides en el mateix idoma.\n",
    "\n",
    "La aparició d'una mateixa paraula a un mateix idioma, podria ocasionarmos problemes, ja que podriem estar sobreentrenant per a aquella paraula en concret ?????"
   ]
  },
  {
   "cell_type": "code",
   "execution_count": 6,
   "id": "e1a310bb",
   "metadata": {},
   "outputs": [
    {
     "data": {
      "text/plain": [
       "(1845, 2)"
      ]
     },
     "execution_count": 6,
     "metadata": {},
     "output_type": "execute_result"
    }
   ],
   "source": [
    "df_final = df_final.drop_duplicates(subset=['paraula','lang'])\n",
    "df_final.shape"
   ]
  },
  {
   "cell_type": "markdown",
   "id": "40766751",
   "metadata": {},
   "source": [
    "#### 3. Eliminació de paraules repetides en diferents idomes.\n",
    "\n",
    "<Perque>"
   ]
  },
  {
   "cell_type": "code",
   "execution_count": 7,
   "id": "8b7a8ac9",
   "metadata": {},
   "outputs": [
    {
     "data": {
      "text/plain": [
       "(1725, 2)"
      ]
     },
     "execution_count": 7,
     "metadata": {},
     "output_type": "execute_result"
    }
   ],
   "source": [
    "df_final = df_final.drop_duplicates(subset=['paraula'], keep=False)\t\n",
    "df_final.shape"
   ]
  },
  {
   "cell_type": "markdown",
   "id": "1be480a8",
   "metadata": {},
   "source": [
    "## Definició de característiques\n",
    "\n",
    "* Conté accents\n",
    "* Conté la lletra \"y\"\n",
    "* Conté la lletra \"w\"\n",
    "* Conté el diagraf \"sh\"\n",
    "* Conté el diagraf \"ph\"\n",
    "* Conté la lletra \"ç\"\n",
    "* Conté el digraf \"l·l\""
   ]
  },
  {
   "cell_type": "code",
   "execution_count": 8,
   "id": "dd8374f0",
   "metadata": {},
   "outputs": [
    {
     "ename": "ModuleNotFoundError",
     "evalue": "No module named 'Levenshtein'",
     "output_type": "error",
     "traceback": [
      "\u001b[1;31m---------------------------------------------------------------------------\u001b[0m",
      "\u001b[1;31mModuleNotFoundError\u001b[0m                       Traceback (most recent call last)",
      "Input \u001b[1;32mIn [8]\u001b[0m, in \u001b[0;36m<cell line: 2>\u001b[1;34m()\u001b[0m\n\u001b[0;32m      1\u001b[0m \u001b[38;5;28;01mimport\u001b[39;00m \u001b[38;5;21;01mre\u001b[39;00m\n\u001b[1;32m----> 2\u001b[0m \u001b[38;5;28;01mfrom\u001b[39;00m \u001b[38;5;21;01mLevenshtein\u001b[39;00m \u001b[38;5;28;01mimport\u001b[39;00m distance \u001b[38;5;28;01mas\u001b[39;00m lev\n\u001b[0;32m      4\u001b[0m features_columns \u001b[38;5;241m=\u001b[39m [\u001b[38;5;124m'\u001b[39m\u001b[38;5;124mhas_accent\u001b[39m\u001b[38;5;124m'\u001b[39m,\u001b[38;5;124m'\u001b[39m\u001b[38;5;124mhas_y\u001b[39m\u001b[38;5;124m'\u001b[39m,\u001b[38;5;124m'\u001b[39m\u001b[38;5;124mhas_w\u001b[39m\u001b[38;5;124m'\u001b[39m,\u001b[38;5;124m'\u001b[39m\u001b[38;5;124mhas_sh\u001b[39m\u001b[38;5;124m'\u001b[39m,\u001b[38;5;124m'\u001b[39m\u001b[38;5;124mhas_ph\u001b[39m\u001b[38;5;124m'\u001b[39m,\u001b[38;5;124m'\u001b[39m\u001b[38;5;124mhas_ç\u001b[39m\u001b[38;5;124m'\u001b[39m,\u001b[38;5;124m'\u001b[39m\u001b[38;5;124mhas_ll\u001b[39m\u001b[38;5;124m'\u001b[39m,\u001b[38;5;124m'\u001b[39m\u001b[38;5;124mlevenshtein_lang\u001b[39m\u001b[38;5;124m'\u001b[39m]\n\u001b[0;32m      6\u001b[0m \u001b[38;5;28;01mdef\u001b[39;00m \u001b[38;5;21mget_levenshtein_lang\u001b[39m(word) : \n",
      "\u001b[1;31mModuleNotFoundError\u001b[0m: No module named 'Levenshtein'"
     ]
    }
   ],
   "source": [
    "\n",
    "import re\n",
    "from Levenshtein import distance as lev\n",
    "\n",
    "features_columns = ['has_accent','has_y','has_w','has_sh','has_ph','has_ç','has_ll','levenshtein_lang']\n",
    "\n",
    "def get_levenshtein_lang(word) : \n",
    "\n",
    "    words = df_final['paraula'].tolist()\n",
    "    lang = df_final['lang'].tolist()\n",
    "    \n",
    "    # Eliminar paraula de llista\n",
    "    index = words.index(word)\n",
    "    words.pop(index)\n",
    "    lang.pop(index)\n",
    "\n",
    "    # Calculate the Levenshtein distances for each row\n",
    "    distances = [lev(word, _word) for _word in words]\n",
    "    return  lang[distances.index(min(distances))]\n",
    "    \n",
    "def _features(word) :\n",
    "    has_accent =  1 if re.search(\"[àèìòùáéíóú]\", word, re.IGNORECASE) else 0\n",
    "    has_y = 1 if re.search(\"y\", word, re.IGNORECASE) else 0\n",
    "    has_w = 1 if re.search(\"w\", word, re.IGNORECASE) else 0\n",
    "    has_sh = 1 if re.search(\"sh\", word, re.IGNORECASE) else 0\n",
    "    has_ph = 1 if re.search(\"ph\", word, re.IGNORECASE) else 0\n",
    "    has_ç = 1 if re.search(\"ç\", word, re.IGNORECASE) else 0\n",
    "    has_ll = 1 if re.search(\"l·l\", word, re.IGNORECASE) else 0\n",
    "    levenshtein_lang = get_levenshtein_lang(word)\n",
    "    \n",
    "    return [has_accent,has_y,has_w,has_sh,has_ph,has_ç,has_ll,levenshtein_lang]\n",
    "\n",
    "features = df_final.apply(lambda row: _features(row['paraula']), axis = 1, )\n",
    "df_final[features_columns] = features.tolist()\n",
    "df_final"
   ]
  },
  {
   "cell_type": "markdown",
   "id": "311c5023",
   "metadata": {},
   "source": [
    "### Comprovació de validesa de les característiques escollidess"
   ]
  },
  {
   "cell_type": "code",
   "execution_count": null,
   "id": "bcc7d3e3",
   "metadata": {},
   "outputs": [],
   "source": [
    "for feature in features_columns:\n",
    "\tct = pd.crosstab(df_final['lang'], df_final[feature])\n",
    "\tct.plot.bar(stacked=True, rot=0)"
   ]
  },
  {
   "cell_type": "markdown",
   "id": "70521327",
   "metadata": {},
   "source": [
    "## Classificació"
   ]
  },
  {
   "cell_type": "code",
   "execution_count": null,
   "id": "eb42ec84",
   "metadata": {},
   "outputs": [],
   "source": [
    "from sklearn.svm import SVC\n",
    "from sklearn.model_selection import train_test_split\n",
    "from sklearn import metrics\n",
    "\n",
    "y = df_final.pop('lang')\n",
    "df_final.pop('paraula')\n",
    "X = df_final\n",
    "X_train, X_test, y_train, y_test = train_test_split(X, y, test_size=0.20, random_state=1)\n",
    "\n",
    "svm = SVC(C=1000.0, kernel='linear')\n",
    "svm.fit(X_train, y_train)\n",
    "\n",
    "y_pred = svm.predict(X_test)\n",
    "\n",
    "print(\"Accuracy:\",metrics.accuracy_score(y_test, y_pred))\n",
    "print(\"Precision:\",metrics.precision_score(y_test, y_pred))\t\n",
    "print(\"Recall:\",metrics.recall_score(y_test, y_pred))"
   ]
  }
 ],
 "metadata": {
  "kernelspec": {
   "display_name": "Python 3 (ipykernel)",
   "language": "python",
   "name": "python3"
  },
  "language_info": {
   "codemirror_mode": {
    "name": "ipython",
    "version": 3
   },
   "file_extension": ".py",
   "mimetype": "text/x-python",
   "name": "python",
   "nbconvert_exporter": "python",
   "pygments_lexer": "ipython3",
   "version": "3.9.12"
  },
  "vscode": {
   "interpreter": {
    "hash": "949777d72b0d2535278d3dc13498b2535136f6dfe0678499012e853ee9abcab1"
   }
  }
 },
 "nbformat": 4,
 "nbformat_minor": 5
}
