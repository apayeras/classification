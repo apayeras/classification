{
 "cells": [
  {
   "cell_type": "markdown",
   "id": "3f10a104",
   "metadata": {},
   "source": [
    "# Practica 1\n",
    "---\n",
    "Author: Antoni Payeras, Andreu Sureda <br>\n",
    "Date: data\n",
    "---"
   ]
  },
  {
   "cell_type": "markdown",
   "id": "04653467",
   "metadata": {},
   "source": [
    "## Les dades"
   ]
  },
  {
   "cell_type": "code",
   "execution_count": 1,
   "id": "0e972c3f",
   "metadata": {},
   "outputs": [],
   "source": [
    "import pandas as pd\n",
    "\n",
    "df = pd.read_csv(\"data.csv\", delimiter=r\"\\s+\")\n",
    "df = df.drop(['0'], axis=1)"
   ]
  },
  {
   "cell_type": "code",
   "execution_count": 2,
   "id": "dddd08ad",
   "metadata": {},
   "outputs": [
    {
     "data": {
      "text/html": [
       "<div>\n",
       "<style scoped>\n",
       "    .dataframe tbody tr th:only-of-type {\n",
       "        vertical-align: middle;\n",
       "    }\n",
       "\n",
       "    .dataframe tbody tr th {\n",
       "        vertical-align: top;\n",
       "    }\n",
       "\n",
       "    .dataframe thead th {\n",
       "        text-align: right;\n",
       "    }\n",
       "</style>\n",
       "<table border=\"1\" class=\"dataframe\">\n",
       "  <thead>\n",
       "    <tr style=\"text-align: right;\">\n",
       "      <th></th>\n",
       "      <th>catala</th>\n",
       "      <th>angles</th>\n",
       "    </tr>\n",
       "  </thead>\n",
       "  <tbody>\n",
       "    <tr>\n",
       "      <th>0</th>\n",
       "      <td>com</td>\n",
       "      <td>as</td>\n",
       "    </tr>\n",
       "    <tr>\n",
       "      <th>1</th>\n",
       "      <td>seva</td>\n",
       "      <td>his</td>\n",
       "    </tr>\n",
       "    <tr>\n",
       "      <th>2</th>\n",
       "      <td>que</td>\n",
       "      <td>that</td>\n",
       "    </tr>\n",
       "    <tr>\n",
       "      <th>3</th>\n",
       "      <td>ell</td>\n",
       "      <td>he</td>\n",
       "    </tr>\n",
       "    <tr>\n",
       "      <th>4</th>\n",
       "      <td>era</td>\n",
       "      <td>was</td>\n",
       "    </tr>\n",
       "  </tbody>\n",
       "</table>\n",
       "</div>"
      ],
      "text/plain": [
       "  catala angles\n",
       "0    com     as\n",
       "1   seva    his\n",
       "2    que   that\n",
       "3    ell     he\n",
       "4    era    was"
      ]
     },
     "execution_count": 2,
     "metadata": {},
     "output_type": "execute_result"
    }
   ],
   "source": [
    "df.head()"
   ]
  },
  {
   "cell_type": "markdown",
   "id": "1274d50a",
   "metadata": {},
   "source": [
    "Primer afegirem la variable de lang a cada un dels idiomes, per poder diferenciar l'idioma de cada paraula"
   ]
  },
  {
   "cell_type": "code",
   "execution_count": 3,
   "id": "15471b6e",
   "metadata": {},
   "outputs": [],
   "source": [
    "df_cat = df[[\"catala\"]]\n",
    "df_cat['lang'] = 0\n",
    "df_cat = df_cat.rename(columns={'catala': 'paraula'})\n",
    "\n",
    "\n",
    "df_ang = df[[\"angles\"]]\n",
    "df_ang['lang'] = 1\n",
    "df_ang = df_ang.rename(columns={'angles': 'paraula'})"
   ]
  },
  {
   "cell_type": "markdown",
   "id": "bccb6f02",
   "metadata": {},
   "source": [
    "Unió dels diferents dataframes de cada llenguatge "
   ]
  },
  {
   "cell_type": "code",
   "execution_count": 4,
   "id": "f0b42749",
   "metadata": {},
   "outputs": [],
   "source": [
    "df_final = pd.concat([df_cat, df_ang], ignore_index=True, sort=False)"
   ]
  },
  {
   "cell_type": "markdown",
   "id": "fe1adeaa",
   "metadata": {},
   "source": [
    "### Neteja de les dades\n",
    "#### 1. Eliminació de caracters especials"
   ]
  },
  {
   "cell_type": "code",
   "execution_count": 5,
   "id": "e15a24e2",
   "metadata": {},
   "outputs": [],
   "source": [
    "df_final['paraula'] = df_final['paraula'].str.replace(\"[\\\\:.,;_*+^\\[\\]\\(\\)/&€%$~\\\"ªº?¿¡!0-9]\", \"\", regex=True)\n",
    "\n",
    "df_final = df_final[df_final['paraula'] != '']"
   ]
  },
  {
   "cell_type": "markdown",
   "id": "72d63ec4",
   "metadata": {},
   "source": [
    "#### 2. Eliminació de paraules repetides en el mateix idoma.\n",
    "\n",
    "La aparició d'una mateixa paraula a un mateix idioma, podria ocasionarmos problemes, ja que podriem estar sobreentrenant per a aquella paraula en concret ?????"
   ]
  },
  {
   "cell_type": "code",
   "execution_count": 6,
   "id": "e1a310bb",
   "metadata": {},
   "outputs": [
    {
     "data": {
      "text/plain": [
       "(1845, 2)"
      ]
     },
     "execution_count": 6,
     "metadata": {},
     "output_type": "execute_result"
    }
   ],
   "source": [
    "df_final = df_final.drop_duplicates(subset=['paraula','lang'])\n",
    "df_final.shape"
   ]
  },
  {
   "cell_type": "markdown",
   "id": "40766751",
   "metadata": {},
   "source": [
    "#### 3. Eliminació de paraules repetides en diferents idomes.\n",
    "\n",
    "<Perque>"
   ]
  },
  {
   "cell_type": "code",
   "execution_count": 7,
   "id": "8b7a8ac9",
   "metadata": {},
   "outputs": [
    {
     "data": {
      "text/plain": [
       "(1725, 2)"
      ]
     },
     "execution_count": 7,
     "metadata": {},
     "output_type": "execute_result"
    }
   ],
   "source": [
    "df_final = df_final.drop_duplicates(subset=['paraula'], keep=False)\t\n",
    "df_final.shape"
   ]
  },
  {
   "cell_type": "markdown",
   "id": "1be480a8",
   "metadata": {},
   "source": [
    "## Definició de característiques\n",
    "\n",
    "* Conté accents\n",
    "* Conté la lletra \"y\"\n",
    "* Conté la lletra \"w\"\n",
    "* Conté el diagraf \"sh\"\n",
    "* Conté el diagraf \"ph\"\n",
    "* Conté la lletra \"ç\"\n",
    "* Conté el digraf \"l·l\""
   ]
  },
  {
   "cell_type": "code",
   "execution_count": 8,
   "id": "dd8374f0",
   "metadata": {},
   "outputs": [
    {
     "data": {
      "text/html": [
       "<div>\n",
       "<style scoped>\n",
       "    .dataframe tbody tr th:only-of-type {\n",
       "        vertical-align: middle;\n",
       "    }\n",
       "\n",
       "    .dataframe tbody tr th {\n",
       "        vertical-align: top;\n",
       "    }\n",
       "\n",
       "    .dataframe thead th {\n",
       "        text-align: right;\n",
       "    }\n",
       "</style>\n",
       "<table border=\"1\" class=\"dataframe\">\n",
       "  <thead>\n",
       "    <tr style=\"text-align: right;\">\n",
       "      <th></th>\n",
       "      <th>paraula</th>\n",
       "      <th>lang</th>\n",
       "      <th>has_accent</th>\n",
       "      <th>has_y</th>\n",
       "      <th>has_w</th>\n",
       "      <th>has_sh</th>\n",
       "      <th>has_ph</th>\n",
       "      <th>has_ç</th>\n",
       "      <th>has_ll</th>\n",
       "      <th>levenshtein_lang</th>\n",
       "      <th>eng_freq</th>\n",
       "      <th>cat_freq</th>\n",
       "    </tr>\n",
       "  </thead>\n",
       "  <tbody>\n",
       "    <tr>\n",
       "      <th>0</th>\n",
       "      <td>com</td>\n",
       "      <td>0</td>\n",
       "      <td>0</td>\n",
       "      <td>0</td>\n",
       "      <td>0</td>\n",
       "      <td>0</td>\n",
       "      <td>0</td>\n",
       "      <td>0</td>\n",
       "      <td>0</td>\n",
       "      <td>0</td>\n",
       "      <td>1</td>\n",
       "      <td>1</td>\n",
       "    </tr>\n",
       "    <tr>\n",
       "      <th>1</th>\n",
       "      <td>seva</td>\n",
       "      <td>0</td>\n",
       "      <td>0</td>\n",
       "      <td>0</td>\n",
       "      <td>0</td>\n",
       "      <td>0</td>\n",
       "      <td>0</td>\n",
       "      <td>0</td>\n",
       "      <td>0</td>\n",
       "      <td>0</td>\n",
       "      <td>0</td>\n",
       "      <td>1</td>\n",
       "    </tr>\n",
       "    <tr>\n",
       "      <th>2</th>\n",
       "      <td>que</td>\n",
       "      <td>0</td>\n",
       "      <td>0</td>\n",
       "      <td>0</td>\n",
       "      <td>0</td>\n",
       "      <td>0</td>\n",
       "      <td>0</td>\n",
       "      <td>0</td>\n",
       "      <td>0</td>\n",
       "      <td>0</td>\n",
       "      <td>1</td>\n",
       "      <td>1</td>\n",
       "    </tr>\n",
       "    <tr>\n",
       "      <th>3</th>\n",
       "      <td>ell</td>\n",
       "      <td>0</td>\n",
       "      <td>0</td>\n",
       "      <td>0</td>\n",
       "      <td>0</td>\n",
       "      <td>0</td>\n",
       "      <td>0</td>\n",
       "      <td>0</td>\n",
       "      <td>0</td>\n",
       "      <td>0</td>\n",
       "      <td>0</td>\n",
       "      <td>1</td>\n",
       "    </tr>\n",
       "    <tr>\n",
       "      <th>4</th>\n",
       "      <td>era</td>\n",
       "      <td>0</td>\n",
       "      <td>0</td>\n",
       "      <td>0</td>\n",
       "      <td>0</td>\n",
       "      <td>0</td>\n",
       "      <td>0</td>\n",
       "      <td>0</td>\n",
       "      <td>0</td>\n",
       "      <td>0</td>\n",
       "      <td>1</td>\n",
       "      <td>1</td>\n",
       "    </tr>\n",
       "    <tr>\n",
       "      <th>...</th>\n",
       "      <td>...</td>\n",
       "      <td>...</td>\n",
       "      <td>...</td>\n",
       "      <td>...</td>\n",
       "      <td>...</td>\n",
       "      <td>...</td>\n",
       "      <td>...</td>\n",
       "      <td>...</td>\n",
       "      <td>...</td>\n",
       "      <td>...</td>\n",
       "      <td>...</td>\n",
       "      <td>...</td>\n",
       "    </tr>\n",
       "    <tr>\n",
       "      <th>1969</th>\n",
       "      <td>prepare</td>\n",
       "      <td>1</td>\n",
       "      <td>0</td>\n",
       "      <td>0</td>\n",
       "      <td>0</td>\n",
       "      <td>0</td>\n",
       "      <td>0</td>\n",
       "      <td>0</td>\n",
       "      <td>0</td>\n",
       "      <td>0</td>\n",
       "      <td>1</td>\n",
       "      <td>0</td>\n",
       "    </tr>\n",
       "    <tr>\n",
       "      <th>1970</th>\n",
       "      <td>salt</td>\n",
       "      <td>1</td>\n",
       "      <td>0</td>\n",
       "      <td>0</td>\n",
       "      <td>0</td>\n",
       "      <td>0</td>\n",
       "      <td>0</td>\n",
       "      <td>0</td>\n",
       "      <td>0</td>\n",
       "      <td>0</td>\n",
       "      <td>1</td>\n",
       "      <td>1</td>\n",
       "    </tr>\n",
       "    <tr>\n",
       "      <th>1971</th>\n",
       "      <td>nose</td>\n",
       "      <td>1</td>\n",
       "      <td>0</td>\n",
       "      <td>0</td>\n",
       "      <td>0</td>\n",
       "      <td>0</td>\n",
       "      <td>0</td>\n",
       "      <td>0</td>\n",
       "      <td>0</td>\n",
       "      <td>1</td>\n",
       "      <td>1</td>\n",
       "      <td>0</td>\n",
       "    </tr>\n",
       "    <tr>\n",
       "      <th>1973</th>\n",
       "      <td>anger</td>\n",
       "      <td>1</td>\n",
       "      <td>0</td>\n",
       "      <td>0</td>\n",
       "      <td>0</td>\n",
       "      <td>0</td>\n",
       "      <td>0</td>\n",
       "      <td>0</td>\n",
       "      <td>0</td>\n",
       "      <td>1</td>\n",
       "      <td>1</td>\n",
       "      <td>0</td>\n",
       "    </tr>\n",
       "    <tr>\n",
       "      <th>1974</th>\n",
       "      <td>claim</td>\n",
       "      <td>1</td>\n",
       "      <td>0</td>\n",
       "      <td>0</td>\n",
       "      <td>0</td>\n",
       "      <td>0</td>\n",
       "      <td>0</td>\n",
       "      <td>0</td>\n",
       "      <td>0</td>\n",
       "      <td>0</td>\n",
       "      <td>1</td>\n",
       "      <td>0</td>\n",
       "    </tr>\n",
       "  </tbody>\n",
       "</table>\n",
       "<p>1725 rows × 12 columns</p>\n",
       "</div>"
      ],
      "text/plain": [
       "      paraula  lang  has_accent  has_y  has_w  has_sh  has_ph  has_ç  has_ll  \\\n",
       "0         com     0           0      0      0       0       0      0       0   \n",
       "1        seva     0           0      0      0       0       0      0       0   \n",
       "2         que     0           0      0      0       0       0      0       0   \n",
       "3         ell     0           0      0      0       0       0      0       0   \n",
       "4         era     0           0      0      0       0       0      0       0   \n",
       "...       ...   ...         ...    ...    ...     ...     ...    ...     ...   \n",
       "1969  prepare     1           0      0      0       0       0      0       0   \n",
       "1970     salt     1           0      0      0       0       0      0       0   \n",
       "1971     nose     1           0      0      0       0       0      0       0   \n",
       "1973    anger     1           0      0      0       0       0      0       0   \n",
       "1974    claim     1           0      0      0       0       0      0       0   \n",
       "\n",
       "      levenshtein_lang  eng_freq  cat_freq  \n",
       "0                    0         1         1  \n",
       "1                    0         0         1  \n",
       "2                    0         1         1  \n",
       "3                    0         0         1  \n",
       "4                    0         1         1  \n",
       "...                ...       ...       ...  \n",
       "1969                 0         1         0  \n",
       "1970                 0         1         1  \n",
       "1971                 1         1         0  \n",
       "1973                 1         1         0  \n",
       "1974                 0         1         0  \n",
       "\n",
       "[1725 rows x 12 columns]"
      ]
     },
     "execution_count": 8,
     "metadata": {},
     "output_type": "execute_result"
    }
   ],
   "source": [
    "\n",
    "import re\n",
    "from Levenshtein import distance as lev\n",
    "\n",
    "import wordfreq\n",
    "catalan_common_words = wordfreq.top_n_list('ca', 10000)\n",
    "english_common_words = wordfreq.top_n_list('en', 10000)\n",
    "\n",
    "features_columns = ['has_accent','has_y','has_w','has_sh','has_ph','has_ç','has_ll','levenshtein_lang', 'eng_freq', 'cat_freq']\n",
    "\n",
    "def get_levenshtein_lang(word) : \n",
    "\n",
    "    words = df_final['paraula'].tolist()\n",
    "    lang = df_final['lang'].tolist()\n",
    "    \n",
    "    # Eliminar paraula de llista\n",
    "    index = words.index(word)\n",
    "    words.pop(index)\n",
    "    lang.pop(index)\n",
    "\n",
    "    # Calculate the Levenshtein distances for each row\n",
    "    distances = [lev(word, _word) for _word in words]\n",
    "    return  lang[distances.index(min(distances))]\n",
    "\n",
    "\n",
    "def _features(word) :\n",
    "    has_accent =  1 if re.search(\"[àèìòùáéíóú]\", word, re.IGNORECASE) else 0\n",
    "    has_y = 1 if re.search(\"y\", word, re.IGNORECASE) else 0\n",
    "    has_w = 1 if re.search(\"w\", word, re.IGNORECASE) else 0\n",
    "    has_sh = 1 if re.search(\"sh\", word, re.IGNORECASE) else 0\n",
    "    has_ph = 1 if re.search(\"ph\", word, re.IGNORECASE) else 0\n",
    "    has_ç = 1 if re.search(\"ç\", word, re.IGNORECASE) else 0\n",
    "    has_ll = 1 if re.search(\"l·l\", word, re.IGNORECASE) else 0\n",
    "    levenshtein_lang = get_levenshtein_lang(word)\n",
    "    eng_freq = 1 if word in english_common_words else 0\n",
    "    cat_freq = 1 if word in catalan_common_words else 0\n",
    "    return [has_accent,has_y,has_w,has_sh,has_ph,has_ç,has_ll,levenshtein_lang, eng_freq, cat_freq]\n",
    "\n",
    "\n",
    "features = df_final.apply(lambda row: _features(row['paraula']), axis = 1, )\n",
    "df_final[features_columns] = features.tolist()\n",
    "df_final"
   ]
  },
  {
   "cell_type": "markdown",
   "id": "311c5023",
   "metadata": {},
   "source": [
    "### Comprovació de validesa de les característiques escollidess"
   ]
  },
  {
   "cell_type": "code",
   "execution_count": 9,
   "id": "bcc7d3e3",
   "metadata": {},
   "outputs": [
    {
     "data": {
      "image/png": "[encoded data removed]",
      "text/plain": [
       "<Figure size 432x288 with 1 Axes>"
      ]
     },
     "metadata": {
      "needs_background": "light"
     },
     "output_type": "display_data"
    },
    {
     "data": {
      "image/png": "[encoded data removed]",
      "text/plain": [
       "<Figure size 432x288 with 1 Axes>"
      ]
     },
     "metadata": {
      "needs_background": "light"
     },
     "output_type": "display_data"
    },
    {
     "data": {
      "image/png": "[encoded data removed]",
      "text/plain": [
       "<Figure size 432x288 with 1 Axes>"
      ]
     },
     "metadata": {
      "needs_background": "light"
     },
     "output_type": "display_data"
    },
    {
     "data": {
      "image/png": "[encoded data removed]",
      "text/plain": [
       "<Figure size 432x288 with 1 Axes>"
      ]
     },
     "metadata": {
      "needs_background": "light"
     },
     "output_type": "display_data"
    },
    {
     "data": {
      "image/png": "[encoded data removed]",
      "text/plain": [
       "<Figure size 432x288 with 1 Axes>"
      ]
     },
     "metadata": {
      "needs_background": "light"
     },
     "output_type": "display_data"
    },
    {
     "data": {
      "image/png": "[encoded data removed]",
      "text/plain": [
       "<Figure size 432x288 with 1 Axes>"
      ]
     },
     "metadata": {
      "needs_background": "light"
     },
     "output_type": "display_data"
    },
    {
     "data": {
      "image/png": "[encoded data removed]",
      "text/plain": [
       "<Figure size 432x288 with 1 Axes>"
      ]
     },
     "metadata": {
      "needs_background": "light"
     },
     "output_type": "display_data"
    },
    {
     "data": {
      "image/png": "[encoded data removed]",
      "text/plain": [
       "<Figure size 432x288 with 1 Axes>"
      ]
     },
     "metadata": {
      "needs_background": "light"
     },
     "output_type": "display_data"
    },
    {
     "data": {
      "image/png": "[encoded data removed]",
      "text/plain": [
       "<Figure size 432x288 with 1 Axes>"
      ]
     },
     "metadata": {
      "needs_background": "light"
     },
     "output_type": "display_data"
    },
    {
     "data": {
      "image/png": "[encoded data removed]",
      "text/plain": [
       "<Figure size 432x288 with 1 Axes>"
      ]
     },
     "metadata": {
      "needs_background": "light"
     },
     "output_type": "display_data"
    }
   ],
   "source": [
    "for feature in features_columns:\n",
    "\tct = pd.crosstab(df_final['lang'], df_final[feature])\n",
    "\tct.plot.bar(stacked=True, rot=0)"
   ]
  },
  {
   "cell_type": "markdown",
   "id": "70521327",
   "metadata": {},
   "source": [
    "## Classificació"
   ]
  },
  {
   "cell_type": "code",
   "execution_count": 10,
   "id": "eb42ec84",
   "metadata": {},
   "outputs": [
    {
     "name": "stdout",
     "output_type": "stream",
     "text": [
      "Accuracy: 0.9652173913043478\n",
      "Precision: 0.9510869565217391\n",
      "Recall: 0.9831460674157303\n"
     ]
    }
   ],
   "source": [
    "from sklearn.svm import SVC\n",
    "from sklearn.model_selection import train_test_split\n",
    "from sklearn import metrics\n",
    "\n",
    "y = df_final.pop('lang')\n",
    "df_final.pop('paraula')\n",
    "X = df_final\n",
    "X_train, X_test, y_train, y_test = train_test_split(X, y, test_size=0.20, random_state=1)\n",
    "\n",
    "svm = SVC(C=1000.0, kernel='linear')\n",
    "svm.fit(X_train, y_train)\n",
    "\n",
    "y_pred = svm.predict(X_test)\n",
    "\n",
    "print(\"Accuracy:\",metrics.accuracy_score(y_test, y_pred))\n",
    "print(\"Precision:\",metrics.precision_score(y_test, y_pred))\t\n",
    "print(\"Recall:\",metrics.recall_score(y_test, y_pred))"
   ]
  }
 ],
 "metadata": {
  "kernelspec": {
   "display_name": "Python 3 (ipykernel)",
   "language": "python",
   "name": "python3"
  },
  "language_info": {
   "codemirror_mode": {
    "name": "ipython",
    "version": 3
   },
   "file_extension": ".py",
   "mimetype": "text/x-python",
   "name": "python",
   "nbconvert_exporter": "python",
   "pygments_lexer": "ipython3",
   "version": "3.9.12"
  },
  "vscode": {
   "interpreter": {
    "hash": "949777d72b0d2535278d3dc13498b2535136f6dfe0678499012e853ee9abcab1"
   }
  }
 },
 "nbformat": 4,
 "nbformat_minor": 5
}
