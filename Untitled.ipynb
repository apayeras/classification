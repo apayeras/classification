{
 "cells": [
  {
   "cell_type": "markdown",
   "id": "3f10a104",
   "metadata": {},
   "source": [
    "# Practica 1\n",
    "---\n",
    "Author: Antoni Payeras, Andreu Sureda <br>\n",
    "Date: data\n",
    "---"
   ]
  },
  {
   "cell_type": "code",
   "execution_count": 5,
   "id": "0e972c3f",
   "metadata": {},
   "outputs": [],
   "source": [
    "import pandas as pd\n",
    "from sklearn.model_selection import train_test_split\n",
    "\n",
    "df = pd.read_csv(\"data.csv\", delimiter=r\"\\s+\")\n",
    "df = df.drop(['0'], axis=1)"
   ]
  },
  {
   "cell_type": "code",
   "execution_count": 6,
   "id": "dddd08ad",
   "metadata": {},
   "outputs": [
    {
     "data": {
      "text/html": [
       "<div>\n",
       "<style scoped>\n",
       "    .dataframe tbody tr th:only-of-type {\n",
       "        vertical-align: middle;\n",
       "    }\n",
       "\n",
       "    .dataframe tbody tr th {\n",
       "        vertical-align: top;\n",
       "    }\n",
       "\n",
       "    .dataframe thead th {\n",
       "        text-align: right;\n",
       "    }\n",
       "</style>\n",
       "<table border=\"1\" class=\"dataframe\">\n",
       "  <thead>\n",
       "    <tr style=\"text-align: right;\">\n",
       "      <th></th>\n",
       "      <th>catala</th>\n",
       "      <th>angles</th>\n",
       "    </tr>\n",
       "  </thead>\n",
       "  <tbody>\n",
       "    <tr>\n",
       "      <th>0</th>\n",
       "      <td>com</td>\n",
       "      <td>as</td>\n",
       "    </tr>\n",
       "    <tr>\n",
       "      <th>1</th>\n",
       "      <td>seva</td>\n",
       "      <td>his</td>\n",
       "    </tr>\n",
       "    <tr>\n",
       "      <th>2</th>\n",
       "      <td>que</td>\n",
       "      <td>that</td>\n",
       "    </tr>\n",
       "    <tr>\n",
       "      <th>3</th>\n",
       "      <td>ell</td>\n",
       "      <td>he</td>\n",
       "    </tr>\n",
       "    <tr>\n",
       "      <th>4</th>\n",
       "      <td>era</td>\n",
       "      <td>was</td>\n",
       "    </tr>\n",
       "  </tbody>\n",
       "</table>\n",
       "</div>"
      ],
      "text/plain": [
       "  catala angles\n",
       "0    com     as\n",
       "1   seva    his\n",
       "2    que   that\n",
       "3    ell     he\n",
       "4    era    was"
      ]
     },
     "execution_count": 6,
     "metadata": {},
     "output_type": "execute_result"
    }
   ],
   "source": [
    "df.head()"
   ]
  },
  {
   "cell_type": "code",
   "execution_count": 7,
   "id": "15471b6e",
   "metadata": {},
   "outputs": [
    {
     "data": {
      "text/plain": [
       "0    800\n",
       "1    780\n",
       "Name: lang, dtype: int64"
      ]
     },
     "execution_count": 7,
     "metadata": {},
     "output_type": "execute_result"
    }
   ],
   "source": [
    "df_cat = df[[\"catala\"]]\n",
    "df_cat['lang'] = 0\n",
    "df_cat = df_cat.rename(columns={'catala': 'paraula'})\n",
    "\n",
    "\n",
    "df_ang = df[[\"angles\"]]\n",
    "df_ang['lang'] = 1\n",
    "df_ang = df_ang.rename(columns={'angles': 'paraula'})\n",
    "\n",
    "df_final = pd.concat([df_cat, df_ang], ignore_index=True, sort=False)"
   ]
  },
  {
   "cell_type": "markdown",
   "id": "1be480a8",
   "metadata": {},
   "source": [
    "## Definició de característiques\n",
    "\n",
    "* Conté accents\n",
    "* Conté la lletra \"y\"\n",
    "* Conté la lletra \"w\"\n",
    "* Conté el diagraf \"sh\"\n",
    "* Conté el diagraf \"ph\"\n",
    "* Conté la lletra \"ç\"\n",
    "* Conté el digraf \"l·l\""
   ]
  },
  {
   "cell_type": "code",
   "execution_count": 8,
   "id": "dd8374f0",
   "metadata": {},
   "outputs": [
    {
     "ename": "NameError",
     "evalue": "name 'words' is not defined",
     "output_type": "error",
     "traceback": [
      "\u001b[1;31m---------------------------------------------------------------------------\u001b[0m",
      "\u001b[1;31mNameError\u001b[0m                                 Traceback (most recent call last)",
      "Input \u001b[1;32mIn [8]\u001b[0m, in \u001b[0;36m<cell line: 12>\u001b[1;34m()\u001b[0m\n\u001b[0;32m      8\u001b[0m     \u001b[38;5;28;01mreturn\u001b[39;00m \n\u001b[0;32m     10\u001b[0m applyFeatures \u001b[38;5;241m=\u001b[39m \u001b[38;5;28;01mlambda\u001b[39;00m x : features(x)\n\u001b[1;32m---> 12\u001b[0m applyFeatures(\u001b[43mwords\u001b[49m)\n",
      "\u001b[1;31mNameError\u001b[0m: name 'words' is not defined"
     ]
    }
   ],
   "source": [
    "import re\n",
    "\n",
    "def _features(word) :\n",
    "    has_accent =  1 if re.search(\"[àèìòùáéíóú]\", word, re.IGNORECASE) else 0\n",
    "    has_y = 1 if re.search(\"y\", word, re.IGNORECASE) else 0\n",
    "    has_w = 1 if re.search(\"w\", word, re.IGNORECASE) else 0\n",
    "    has_sh = 1 if re.search(\"sh\", word, re.IGNORECASE) else 0\n",
    "    has_ph = 1 if re.search(\"ph\", word, re.IGNORECASE) else 0\n",
    "    has_ç = 1 if re.search(\"ç\", word, re.IGNORECASE) else 0\n",
    "    has_ll = 1 if re.search(\"l·l\", word, re.IGNORECASE) else 0\n",
    "    \n",
    "    return [has_accent,\n",
    "has_y,\n",
    "has_w,\n",
    "has_sh,\n",
    "has_ph,\n",
    "has_ç,\n",
    "has_ll]\n",
    "\n",
    "features = df_final.apply(lambda row: _features(row['paraula']), axis = 1, )\n",
    "df_final[['has_accent',\n",
    "'has_y',\n",
    "'has_w',\n",
    "'has_sh',\n",
    "'has_ph',\n",
    "'has_ç',\n",
    "'has_ll']] = features.tolist()\n",
    "df_final"
   ]
  },
  {
   "cell_type": "markdown",
   "id": "311c5023",
   "metadata": {},
   "source": [
    "Comprovar features anglès vs català"
   ]
  }
 ],
 "metadata": {
  "kernelspec": {
   "display_name": "Python 3",
   "language": "python",
   "name": "python3"
  },
  "language_info": {
   "codemirror_mode": {
    "name": "ipython",
    "version": 3
   },
   "file_extension": ".py",
   "mimetype": "text/x-python",
   "name": "python",
   "nbconvert_exporter": "python",
   "pygments_lexer": "ipython3",
   "version": "3.9.14 (main, Oct  5 2022, 15:15:02) \n[GCC 10.2.1 20210110]"
  },
  "vscode": {
   "interpreter": {
    "hash": "949777d72b0d2535278d3dc13498b2535136f6dfe0678499012e853ee9abcab1"
   }
  }
 },
 "nbformat": 4,
 "nbformat_minor": 5
}
